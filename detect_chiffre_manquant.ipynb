{
 "cells": [
  {
   "cell_type": "markdown",
   "id": "1929ab28",
   "metadata": {},
   "source": [
    "### Binarisé une image "
   ]
  },
  {
   "cell_type": "code",
   "execution_count": null,
   "id": "e91763e6",
   "metadata": {},
   "outputs": [],
   "source": [
    "import cv2\n",
    "import os\n",
    "import numpy as np\n",
    "\n",
    "\n",
    "\n",
    "def binarize_image(input_image_path, output_image_path):\n",
    "    if not os.path.exists(input_image_path):\n",
    "        print(f\"Erreur : L'image d'entrée {input_image_path} n'existe pas.\")\n",
    "        exit()\n",
    "    img = cv2.imread(input_image_path, cv2.IMREAD_GRAYSCALE)\n",
    "    if img is None:\n",
    "        print(f\"Erreur : Impossible de charger l'image à {input_image_path}\")\n",
    "        exit()\n",
    "\n",
    "    thresh_adaptive = cv2.adaptiveThreshold(\n",
    "        img, 255, \n",
    "        cv2.ADAPTIVE_THRESH_GAUSSIAN_C,  \n",
    "        cv2.THRESH_BINARY_INV,          \n",
    "        11,                             \n",
    "        2                               \n",
    "    )\n",
    "    _, thresh_otsu = cv2.threshold(\n",
    "        img, 0, 255, \n",
    "        cv2.THRESH_BINARY_INV + cv2.THRESH_OTSU  \n",
    "    )\n",
    "\n",
    "    thresh = thresh_adaptive\n",
    "    cv2.imwrite(output_image_path, thresh)\n",
    "    print(f\"Image binarisée sauvegardée sous {output_image_path}\")\n",
    "\n",
    "    # Afficher l'image originale et l'image binarisée pour vérification\n",
    "    cv2.imshow(\"Image originale (niveaux de gris)\", img)\n",
    "    cv2.imshow(\"Image binarisée\", thresh)\n",
    "    cv2.waitKey(0)  \n",
    "    cv2.destroyAllWindows()\n",
    "\n",
    "\n",
    "# Chemin de l'image d'entrée\n",
    "input_image_path = \"chiffre.jpg\"\n",
    "# Chemin pour sauvegarder l'image binarisée\n",
    "output_image_path = \"binarized_image.jpg\"\n",
    "binarize_image(input_image_path, output_image_path)"
   ]
  }
 ],
 "metadata": {
  "kernelspec": {
   "display_name": ".venv",
   "language": "python",
   "name": "python3"
  },
  "language_info": {
   "name": "python",
   "version": "3.9.0"
  }
 },
 "nbformat": 4,
 "nbformat_minor": 5
}
