{
 "cells": [
  {
   "cell_type": "markdown",
   "id": "3a5a4478",
   "metadata": {},
   "source": [
    "### convertir image bmp en jpg"
   ]
  },
  {
   "cell_type": "code",
   "execution_count": null,
   "id": "0d81acba",
   "metadata": {},
   "outputs": [],
   "source": [
    "import os\n",
    "from PIL import Image\n",
    "\n",
    "def convert_bmp_to_jpg(folder):\n",
    "    for file in os.listdir(folder):\n",
    "        if file.lower().endswith(\".bmp\"):\n",
    "            path = os.path.join(folder, file)\n",
    "            new_file = os.path.splitext(file)[0] + \".jpg\"\n",
    "            new_path = os.path.join(folder, new_file)\n",
    "\n",
    "            img = Image.open(path)\n",
    "            img.convert(\"RGB\").save(new_path, \"JPEG\")\n",
    "            os.remove(path)\n",
    "            print(f\"{file} → {new_file}\")\n",
    "\n",
    "folder = \"data/clean_image\"\n",
    "convert_bmp_to_jpg(folder) "
   ]
  },
  {
   "cell_type": "markdown",
   "id": "c269b8de",
   "metadata": {},
   "source": [
    "### Detecter les couleurs normal dans une images"
   ]
  },
  {
   "cell_type": "code",
   "execution_count": 2,
   "id": "414ca22e",
   "metadata": {},
   "outputs": [
    {
     "name": "stdout",
     "output_type": "stream",
     "text": [
      "Nombre de couleurs uniques dans l'image : 241\n",
      "Couleurs RGB uniques dans l'image :\n",
      "{(227, 227, 227), (198, 198, 198), (13, 13, 13), (236, 236, 236), (41, 41, 41), (20, 20, 20), (89, 89, 89), (100, 100, 100), (231, 231, 231), (55, 55, 55), (29, 29, 29), (50, 50, 50), (122, 122, 122), (143, 143, 143), (8, 8, 8), (67, 67, 67), (88, 88, 88), (181, 181, 181), (202, 202, 202), (212, 212, 212), (65, 65, 65), (219, 219, 219), (240, 240, 240), (5, 5, 5), (160, 160, 160), (72, 72, 72), (43, 43, 43), (64, 64, 64), (93, 93, 93), (124, 124, 124), (38, 38, 38), (110, 110, 110), (102, 102, 102), (123, 123, 123), (131, 131, 131), (152, 152, 152), (162, 162, 162), (183, 183, 183), (169, 169, 169), (161, 161, 161), (190, 190, 190), (221, 221, 221), (14, 14, 14), (168, 168, 168), (189, 189, 189), (228, 228, 228), (52, 52, 52), (73, 73, 73), (104, 104, 104), (112, 112, 112), (80, 80, 80), (90, 90, 90), (111, 111, 111), (132, 132, 132), (140, 140, 140), (171, 171, 171), (192, 192, 192), (25, 25, 25), (118, 118, 118), (149, 149, 149), (170, 170, 170), (178, 178, 178), (199, 199, 199), (201, 201, 201), (209, 209, 209), (230, 230, 230), (23, 23, 23), (54, 54, 54), (177, 177, 177), (208, 208, 208), (237, 237, 237), (229, 229, 229), (30, 30, 30), (61, 61, 61), (82, 82, 82), (113, 113, 113), (206, 206, 206), (99, 99, 99), (120, 120, 120), (159, 159, 159), (127, 127, 127), (158, 158, 158), (179, 179, 179), (243, 243, 243), (63, 63, 63), (217, 217, 217), (70, 70, 70), (108, 108, 108), (6, 6, 6), (96, 96, 96), (36, 36, 36), (15, 15, 15), (103, 103, 103), (74, 74, 74), (22, 22, 22), (81, 81, 81), (133, 133, 133), (141, 141, 141), (17, 17, 17), (200, 200, 200), (53, 53, 53), (24, 24, 24), (45, 45, 45), (84, 84, 84), (105, 105, 105), (238, 238, 238), (3, 3, 3), (31, 31, 31), (62, 62, 62), (83, 83, 83), (91, 91, 91), (207, 207, 207), (150, 150, 150), (60, 60, 60), (121, 121, 121), (142, 142, 142), (214, 214, 214), (235, 235, 235), (119, 119, 119), (180, 180, 180), (33, 33, 33), (126, 126, 126), (97, 97, 97), (147, 147, 147), (157, 157, 157), (12, 12, 12), (4, 4, 4), (71, 71, 71), (92, 92, 92), (156, 156, 156), (164, 164, 164), (185, 185, 185), (216, 216, 216), (11, 11, 11), (130, 130, 130), (223, 223, 223), (215, 215, 215), (47, 47, 47), (68, 68, 68), (222, 222, 222), (42, 42, 42), (114, 114, 114), (106, 106, 106), (166, 166, 166), (21, 21, 21), (173, 173, 173), (144, 144, 144), (165, 165, 165), (194, 194, 194), (204, 204, 204), (225, 225, 225), (18, 18, 18), (172, 172, 172), (203, 203, 203), (224, 224, 224), (232, 232, 232), (56, 56, 56), (241, 241, 241), (46, 46, 46), (94, 94, 94), (115, 115, 115), (153, 153, 153), (205, 205, 205), (51, 51, 51), (191, 191, 191), (44, 44, 44), (34, 34, 34), (148, 148, 148), (32, 32, 32), (186, 186, 186), (39, 39, 39), (193, 193, 193), (10, 10, 10), (77, 77, 77), (48, 48, 48), (69, 69, 69), (98, 98, 98), (129, 129, 129), (76, 76, 76), (107, 107, 107), (128, 128, 128), (136, 136, 136), (167, 167, 167), (188, 188, 188), (135, 135, 135), (174, 174, 174), (187, 187, 187), (195, 195, 195), (226, 226, 226), (27, 27, 27), (40, 40, 40), (58, 58, 58), (79, 79, 79), (19, 19, 19), (233, 233, 233), (26, 26, 26), (57, 57, 57), (78, 78, 78), (86, 86, 86), (109, 109, 109), (117, 117, 117), (138, 138, 138), (85, 85, 85), (95, 95, 95), (116, 116, 116), (137, 137, 137), (145, 145, 145), (155, 155, 155), (176, 176, 176), (154, 154, 154), (175, 175, 175), (196, 196, 196), (220, 220, 220), (28, 28, 28), (49, 49, 49), (59, 59, 59), (182, 182, 182), (213, 213, 213), (234, 234, 234), (7, 7, 7), (242, 242, 242), (35, 35, 35), (66, 66, 66), (37, 37, 37), (87, 87, 87), (151, 151, 151), (211, 211, 211), (125, 125, 125), (146, 146, 146), (197, 197, 197), (210, 210, 210), (218, 218, 218), (239, 239, 239), (9, 9, 9), (163, 163, 163), (184, 184, 184), (16, 16, 16), (101, 101, 101), (75, 75, 75), (139, 139, 139), (134, 134, 134)}\n"
     ]
    }
   ],
   "source": [
    "from PIL import Image\n",
    "\n",
    "# Chemin vers l'image\n",
    "def extraire_Couleur_conforme(image_path): \n",
    "    # Ouvrir l'image et convertir en RGB\n",
    "    img = Image.open(image_path).convert(\"RGB\")\n",
    "    # Récupérer les pixels et supprimer les doublons\n",
    "    unique_colors = set(img.getdata())\n",
    "    print(f\"Nombre de couleurs uniques dans l'image : {len(unique_colors)}\")\n",
    "    # Afficher chaque couleur unique\n",
    "    print(\"Couleurs RGB uniques dans l'image :\")\n",
    "    return unique_colors\n",
    "\n",
    "image_path = 'data/clean_image/30mm_BonW_1.jpg'  \n",
    "couleurs_uniques = extraire_Couleur_conforme(image_path)\n",
    "print(couleurs_uniques)\n"
   ]
  },
  {
   "cell_type": "code",
   "execution_count": null,
   "id": "142c116a",
   "metadata": {},
   "outputs": [
    {
     "name": "stdout",
     "output_type": "stream",
     "text": [
      "❌ NON CONFORME : couleur(s) intruse(s) détectée(s) :\n",
      "  RGB(141, 141, 143)\n"
     ]
    }
   ],
   "source": [
    "import cv2\n",
    "import numpy as np\n",
    "\n",
    "def verifier_image_conformite(image_path, unique_colors):\n",
    "    \"\"\"\n",
    "    Vérifie si une image contient une couleur non présente dans le set unique_colors\n",
    "    à l'intérieur du cercle du décalque.\n",
    "    \"\"\"\n",
    "    # 1. Charger l'image\n",
    "    image = cv2.imread(image_path)\n",
    "    if image is None:\n",
    "        raise FileNotFoundError(f\"Image introuvable : {image_path}\")\n",
    "    image_rgb = cv2.cvtColor(image, cv2.COLOR_BGR2RGB)\n",
    "\n",
    "    # 2. Grayscale et blur pour la détection de cercle\n",
    "    gray = cv2.cvtColor(image, cv2.COLOR_BGR2GRAY)\n",
    "    gray_blur = cv2.medianBlur(gray, 5)\n",
    "\n",
    "    # 3. Détection du cercle\n",
    "    circles = cv2.HoughCircles(\n",
    "        gray_blur,\n",
    "        cv2.HOUGH_GRADIENT,\n",
    "        dp=1.2,\n",
    "        minDist=500,\n",
    "        param1=100,\n",
    "        param2=80,\n",
    "        minRadius=200,\n",
    "        maxRadius=1000\n",
    "    )\n",
    "\n",
    "    if circles is None:\n",
    "        print(\"❌ Aucun cercle détecté.\")\n",
    "        return\n",
    "\n",
    "    circles = np.uint16(np.around(circles))\n",
    "    x, y, r = circles[0][0]\n",
    "\n",
    "    # 4. Masque du cercle\n",
    "    mask = np.zeros_like(gray)\n",
    "    cv2.circle(mask, (x, y), r, 255, -1)\n",
    "\n",
    "    # 5. Extraire les pixels dans le cercle\n",
    "    pixels_cercle = image_rgb[mask == 255]\n",
    "\n",
    "    # 6. Vérification des couleurs\n",
    "    couleurs_intruses = set()\n",
    "    for pix in pixels_cercle:\n",
    "        pix_tuple = tuple(pix)\n",
    "        if pix_tuple not in unique_colors:\n",
    "            couleurs_intruses.add(pix_tuple)\n",
    "            if len(couleurs_intruses) >= 1:\n",
    "                break  # dès qu'on détecte une couleur non conforme\n",
    "\n",
    "    # 7. Résultat\n",
    "    if couleurs_intruses:\n",
    "        print(\"❌ NON CONFORME : couleur(s) intruse(s) détectée(s) :\")\n",
    "        for c in couleurs_intruses:\n",
    "            print(f\"  RGB{c}\")\n",
    "    else:\n",
    "        print(\"✅ CONFORME : aucune couleur en surplus détectée.\")\n",
    "\n",
    "\n",
    "image_path = 'data/clean_image/image_3.jpg'\n",
    "verifier_image_conformite(image_path, unique_colors)\n"
   ]
  }
 ],
 "metadata": {
  "kernelspec": {
   "display_name": ".venv",
   "language": "python",
   "name": "python3"
  },
  "language_info": {
   "codemirror_mode": {
    "name": "ipython",
    "version": 3
   },
   "file_extension": ".py",
   "mimetype": "text/x-python",
   "name": "python",
   "nbconvert_exporter": "python",
   "pygments_lexer": "ipython3",
   "version": "3.9.0"
  }
 },
 "nbformat": 4,
 "nbformat_minor": 5
}
